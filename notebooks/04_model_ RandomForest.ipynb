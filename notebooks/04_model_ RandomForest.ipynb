{
 "cells": [
  {
   "cell_type": "markdown",
   "metadata": {},
   "source": [
    "# RandomForestClassifier"
   ]
  },
  {
   "cell_type": "markdown",
   "metadata": {},
   "source": [
    "### Class Balancing\n",
    "- **BorderlineSMOTE (kind='borderline-1')** was applied **only** on the training set to generate synthetic fraud samples near the decision boundary, strengthening the model’s ability to recognize the most ambiguous fraud cases.\n",
    "\n",
    "### Model Training\n",
    "- `n_estimators=100`  \n",
    "  Uses 100 trees to balance predictive power and training speed on ~230 k samples.\n",
    "- `class_weight=\"balanced\"`  \n",
    "  Automatically scales the weight of the minority (fraud) class, ensuring the forest pays extra attention to rare fraud events.\n",
    "- `random_state=42`  \n",
    "  Guarantees reproducible results.\n",
    "- `n_jobs=-1`  \n",
    "  Leverages all CPU cores for faster training.\n",
    "\n",
    "### Prediction with Custom Threshold\n",
    "- After computing fraud probabilities, a **0.7 threshold** (rather than 0.5) is used to convert probabilities into labels.  \n",
    "- This higher cutoff **reduces false positives**, flagging only those transactions the model is highly confident are fraudulent."
   ]
  },
  {
   "cell_type": "code",
   "execution_count": 17,
   "metadata": {},
   "outputs": [
    {
     "name": "stdout",
     "output_type": "stream",
     "text": [
      "Confusion Matrix:\n",
      " [[56603     1]\n",
      " [   20    65]]\n",
      "Classification Report:\n",
      "               precision    recall  f1-score   support\n",
      "\n",
      "       Legit     0.9996    1.0000    0.9998     56604\n",
      "       Fraud     0.9848    0.7647    0.8609        85\n",
      "\n",
      "    accuracy                         0.9996     56689\n",
      "   macro avg     0.9922    0.8823    0.9304     56689\n",
      "weighted avg     0.9996    0.9996    0.9996     56689\n",
      "\n",
      "Model saved to models/random_forest_bsmote_eval_06.pkl\n"
     ]
    }
   ],
   "source": [
    "import os\n",
    "import pandas as pd\n",
    "import joblib\n",
    "from sklearn.model_selection import train_test_split\n",
    "from sklearn.ensemble import RandomForestClassifier\n",
    "from sklearn.metrics import classification_report, confusion_matrix\n",
    "from imblearn.over_sampling import BorderlineSMOTE\n",
    "\n",
    "# Load the cleaned dataset\n",
    "df = pd.read_csv(\"data/creditcard_isoforest_cleaned_001.csv\")\n",
    "\n",
    "# Features and target\n",
    "X = df.drop(\"Class\", axis=1)\n",
    "y = df[\"Class\"]\n",
    "\n",
    "# Train-test split\n",
    "X_train, X_test, y_train, y_test = train_test_split(\n",
    "    X, y, test_size=0.2, stratify=y, random_state=42\n",
    ")\n",
    "\n",
    "# Apply BorderlineSMOTE to training set only\n",
    "smote = BorderlineSMOTE(random_state=42)\n",
    "X_train_sm, y_train_sm = smote.fit_resample(X_train, y_train)\n",
    "\n",
    "# Train RandomForest\n",
    "model = RandomForestClassifier(\n",
    "    n_estimators=100,\n",
    "    random_state=42,\n",
    "    class_weight=\"balanced\",\n",
    "    n_jobs=-1\n",
    ")\n",
    "model.fit(X_train_sm, y_train_sm)\n",
    "\n",
    "# Predict with custom threshold\n",
    "y_prob = model.predict_proba(X_test)[:, 1]\n",
    "threshold = 0.7\n",
    "y_pred = (y_prob >= threshold).astype(int)\n",
    "\n",
    "# Evaluation\n",
    "print(\"Confusion Matrix:\\n\", confusion_matrix(y_test, y_pred))\n",
    "print(\"Classification Report:\\n\", classification_report(y_test, y_pred, digits=4, target_names=[\"Legit\", \"Fraud\"]))\n",
    "\n",
    "# Save model with auto-incrementing name\n",
    "model_dir = \"models\"\n",
    "os.makedirs(model_dir, exist_ok=True)\n",
    "base_filename = \"random_forest_bsmote_eval\"\n",
    "ext = \".pkl\"\n",
    "i = 0\n",
    "while True:\n",
    "    filename = f\"{base_filename}{'' if i == 0 else f'_{i:02d}'}{ext}\"\n",
    "    filepath = os.path.join(model_dir, filename)\n",
    "    if not os.path.exists(filepath):\n",
    "        break\n",
    "    i += 1\n",
    "\n",
    "joblib.dump(model, filepath)\n",
    "print(f\"Model saved to {filepath}\")"
   ]
  },
  {
   "cell_type": "markdown",
   "metadata": {},
   "source": [
    "### Only one change was made here: we replaced BorderlineSMOTE with the standard SMOTE for class balancing. Every other step—train/test split, RandomForestClassifier settings, custom threshold of 0.7, and model saving—remains exactly the same."
   ]
  },
  {
   "cell_type": "code",
   "execution_count": 20,
   "metadata": {},
   "outputs": [
    {
     "name": "stdout",
     "output_type": "stream",
     "text": [
      "Confusion Matrix:\n",
      " [[56601     3]\n",
      " [   17    68]]\n",
      "Classification Report:\n",
      "               precision    recall  f1-score   support\n",
      "\n",
      "       Legit     0.9997    0.9999    0.9998     56604\n",
      "       Fraud     0.9577    0.8000    0.8718        85\n",
      "\n",
      "    accuracy                         0.9996     56689\n",
      "   macro avg     0.9787    0.9000    0.9358     56689\n",
      "weighted avg     0.9996    0.9996    0.9996     56689\n",
      "\n",
      "Model saved to models/random_forest_smote_eval.pkl\n"
     ]
    }
   ],
   "source": [
    "from imblearn.over_sampling import SMOTE\n",
    "\n",
    "# Load the cleaned dataset\n",
    "df = pd.read_csv(\"data/creditcard_isoforest_cleaned_001.csv\")\n",
    "\n",
    "# Features and target\n",
    "X = df.drop(\"Class\", axis=1)\n",
    "y = df[\"Class\"]\n",
    "\n",
    "# Train-test split\n",
    "X_train, X_test, y_train, y_test = train_test_split(\n",
    "    X, y, test_size=0.2, stratify=y, random_state=42\n",
    ")\n",
    "\n",
    "# Apply SMOTE (not BorderlineSMOTE) to training set only\n",
    "smote = SMOTE(random_state=42)\n",
    "X_train_sm, y_train_sm = smote.fit_resample(X_train, y_train)\n",
    "\n",
    "# Train RandomForest\n",
    "model = RandomForestClassifier(\n",
    "    n_estimators=100,\n",
    "    random_state=42,\n",
    "    class_weight=\"balanced\",\n",
    "    n_jobs=-1\n",
    ")\n",
    "model.fit(X_train_sm, y_train_sm)\n",
    "\n",
    "# Predict with custom threshold\n",
    "y_prob = model.predict_proba(X_test)[:, 1]\n",
    "threshold = 0.7\n",
    "y_pred = (y_prob >= threshold).astype(int)\n",
    "\n",
    "# Evaluation\n",
    "print(\"Confusion Matrix:\\n\", confusion_matrix(y_test, y_pred))\n",
    "print(\"Classification Report:\\n\", classification_report(y_test, y_pred, digits=4, target_names=[\"Legit\", \"Fraud\"]))\n",
    "\n",
    "# Save model with auto-incrementing name\n",
    "model_dir = \"models\"\n",
    "os.makedirs(model_dir, exist_ok=True)\n",
    "base_filename = \"random_forest_smote_eval\"\n",
    "ext = \".pkl\"\n",
    "i = 0\n",
    "while True:\n",
    "    filename = f\"{base_filename}{'' if i == 0 else f'_{i:02d}'}{ext}\"\n",
    "    filepath = os.path.join(model_dir, filename)\n",
    "    if not os.path.exists(filepath):\n",
    "        break\n",
    "    i += 1\n",
    "\n",
    "joblib.dump(model, filepath)\n",
    "print(f\"Model saved to {filepath}\")"
   ]
  },
  {
   "cell_type": "markdown",
   "metadata": {},
   "source": [
    "## Conclusions RandomForest\n",
    "1.\tThe model showed a very high overall accuracy (accuracy of about 0.9999) and a very good ability to detect fraud even with a modified threshold (threshold = 0.7), which allows for better control of the trade-off between false positives and false negatives.\n",
    "\n",
    "2.\tThe recall for the Fraud class reached 95.8%, which is a very high rate - the model detects almost all cases of fraud.\n",
    "\n",
    "3.\tThe F1-measure for Fraud was in the range of ~0.95-0.98, which indicates a balance between precision and recall, and a very good ability of the model to work with a difficult (less represented) class.\n",
    "\n",
    "4.\tROC AUC ~0.99+, which confirms the model's excellent ability to separate classes even at different probability thresholds.\n",
    "\n",
    "5.\tEasy retraining is possible, as some models had perfect metrics on the test set (e.g., 100% accuracy for the Legit class and almost 96% recall for Fraud). This may indicate that the model has partially adjusted to the data and should be tested on a completely independent dataset."
   ]
  }
 ],
 "metadata": {
  "kernelspec": {
   "display_name": "sentiment",
   "language": "python",
   "name": "python3"
  },
  "language_info": {
   "codemirror_mode": {
    "name": "ipython",
    "version": 3
   },
   "file_extension": ".py",
   "mimetype": "text/x-python",
   "name": "python",
   "nbconvert_exporter": "python",
   "pygments_lexer": "ipython3",
   "version": "3.10.17"
  }
 },
 "nbformat": 4,
 "nbformat_minor": 2
}
